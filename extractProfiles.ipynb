{
 "cells": [
  {
   "cell_type": "code",
   "execution_count": 27,
   "id": "ed10ca65",
   "metadata": {},
   "outputs": [],
   "source": [
    "import numpy as np\n",
    "import matplotlib.pyplot as plt\n",
    "import CorrPy as cp\n",
    "\n",
    "plt.rcParams['figure.dpi'] = 150\n",
    "\n",
    "# Define a constant to recalculate median absolute deviation to standard deviation\n",
    "const = 1.4826"
   ]
  },
  {
   "cell_type": "markdown",
   "id": "f9467e58",
   "metadata": {},
   "source": [
    "Extract 100 profiles perpendicular to the crack front."
   ]
  },
  {
   "cell_type": "code",
   "execution_count": 28,
   "id": "403b438e",
   "metadata": {},
   "outputs": [
    {
     "name": "stdout",
     "output_type": "stream",
     "text": [
      "(3887, 7731)\n"
     ]
    }
   ],
   "source": [
    "PWT = np.loadtxt('data/denoisedData.csv', delimiter=',')\n",
    "deltaIn = .3013\n",
    "print(PWT.shape)"
   ]
  },
  {
   "cell_type": "code",
   "execution_count": 29,
   "id": "47ec7e94",
   "metadata": {},
   "outputs": [
    {
     "name": "stdout",
     "output_type": "stream",
     "text": [
      "[3089 4449 3810 3985 3331 4104 4382 3874 3458 3993 4418 3914 4208 4584\n",
      " 4372 4065 3722 3525 3958 4493 3162 3388 3658 4657 3491 3506 3979 4518\n",
      " 4601 4477 3063 3779 3972 3802 4326 3703 4112 3277 4384 4691 3584 3418\n",
      " 3238 3929 4547 4150 4381 3562 3723 4297 3539 4188 3811 3833 3341 3097\n",
      " 3449 4376 3482 4650 3499 3973 3277 4223 3082 3098 3978 4410 4027 3500\n",
      " 3389 4605 3917 4335 3191 3771 4242 4170 3527 3191 3012 4005 3320 3986\n",
      " 3819 4231 3157 3793 4057 3107 3000 4004 3241 4204 3537 3859 4450 3810\n",
      " 4527 3721]\n"
     ]
    }
   ],
   "source": [
    "# Choose random profiles\n",
    "lstP = np.random.randint(3000, PWT.shape[1] - 3000, 100)\n",
    "print(lstP)"
   ]
  },
  {
   "cell_type": "code",
   "execution_count": 31,
   "id": "02aa127f",
   "metadata": {},
   "outputs": [],
   "source": [
    "PWT_new = np.full((3887, 100), np.nan)\n",
    "\n",
    "for indx, val in enumerate(lstP):\n",
    "    PWT_new[:, indx] = PWT[:, val]"
   ]
  },
  {
   "cell_type": "code",
   "execution_count": 32,
   "id": "a5c27c43",
   "metadata": {},
   "outputs": [],
   "source": [
    "PWT_new = cp.subtractTrend(30, PWT_new, method='svr')"
   ]
  },
  {
   "cell_type": "code",
   "execution_count": 33,
   "id": "39fa779c",
   "metadata": {},
   "outputs": [],
   "source": [
    "np.savetxt('data/detrendDataPerp.csv', PWT_new, delimiter=',')"
   ]
  },
  {
   "cell_type": "markdown",
   "id": "ffea7856",
   "metadata": {},
   "source": [
    "Extract 100 profiles parallel to the crack front."
   ]
  },
  {
   "cell_type": "code",
   "execution_count": 2,
   "id": "ec4af9a3",
   "metadata": {},
   "outputs": [
    {
     "name": "stdout",
     "output_type": "stream",
     "text": [
      "(3887, 7731)\n"
     ]
    }
   ],
   "source": [
    "PWT = np.loadtxt('data/denoisedData.csv', delimiter=',')\n",
    "deltaIn = .3013\n",
    "print(PWT.shape)"
   ]
  },
  {
   "cell_type": "code",
   "execution_count": 3,
   "id": "cb11f978",
   "metadata": {},
   "outputs": [],
   "source": [
    "PWT = PWT.T\n",
    "l, N = PWT.shape"
   ]
  },
  {
   "cell_type": "code",
   "execution_count": 16,
   "id": "08be7865",
   "metadata": {},
   "outputs": [
    {
     "name": "stdout",
     "output_type": "stream",
     "text": [
      "[1461 2189 1548 2256 2078 1725 1385 1366 1244 2410 2242 1658 1509 1857\n",
      " 1234 1427 1482 2456 1835 1409 1931 1956 1379 2051 1907 2256 1914 1439\n",
      " 2408 1207 1715 1524 1768 2242 1766 2226 2250 1695 1272 1900 2315 1889\n",
      " 2147 2486 1278 1229 1671 2228 1928 2333 1705 2039 2103 1510 2120 1548\n",
      " 1943 1904 1696 2011 1740 1744 1828 1365 2458 1758 1364 1642 1589 1301\n",
      " 2285 1313 1800 1261 1687 2357 1223 1778 1472 1731 2186 1602 1949 2466\n",
      " 1455 2192 1509 2223 1551 1925 1963 1730 1489 2036 2116 2363 1611 1860\n",
      " 1575 2035]\n"
     ]
    }
   ],
   "source": [
    "# Choose random profiles\n",
    "lstP = np.random.randint(1200, 2500, 100)\n",
    "print(lstP)"
   ]
  },
  {
   "cell_type": "code",
   "execution_count": 17,
   "id": "8e4fe1eb",
   "metadata": {},
   "outputs": [],
   "source": [
    "PWT_new = np.full((l, 100), np.nan)\n",
    "\n",
    "for indx, val in enumerate(lstP):\n",
    "    PWT_new[:, indx] = PWT[:, val]"
   ]
  },
  {
   "cell_type": "code",
   "execution_count": 18,
   "id": "0ca22aa9",
   "metadata": {},
   "outputs": [],
   "source": [
    "PWT_new = cp.subtractTrend(3, PWT_new, method='svr')"
   ]
  },
  {
   "cell_type": "code",
   "execution_count": 19,
   "id": "4b2ab700",
   "metadata": {},
   "outputs": [],
   "source": [
    "np.savetxt('data/detrendDataParallel_mid.csv', PWT_new, delimiter=',')"
   ]
  }
 ],
 "metadata": {
  "kernelspec": {
   "display_name": "main",
   "language": "python",
   "name": "python3"
  },
  "language_info": {
   "codemirror_mode": {
    "name": "ipython",
    "version": 3
   },
   "file_extension": ".py",
   "mimetype": "text/x-python",
   "name": "python",
   "nbconvert_exporter": "python",
   "pygments_lexer": "ipython3",
   "version": "3.12.2"
  }
 },
 "nbformat": 4,
 "nbformat_minor": 5
}
